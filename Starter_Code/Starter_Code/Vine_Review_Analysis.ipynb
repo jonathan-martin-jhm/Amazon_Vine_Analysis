{
  "cells": [
    {
      "cell_type": "code",
      "execution_count": null,
      "metadata": {
        "colab": {
          "base_uri": "https://localhost:8080/"
        },
        "id": "V58rxea0HqSa",
        "outputId": "57c58855-1d92-4042-d768-1a80e15850d4"
      },
      "outputs": [
        {
          "output_type": "stream",
          "name": "stdout",
          "text": [
            "Get:1 http://security.ubuntu.com/ubuntu focal-security InRelease [114 kB]\n",
            "Get:2 https://cloud.r-project.org/bin/linux/ubuntu focal-cran40/ InRelease [3,622 B]\n",
            "Hit:3 http://archive.ubuntu.com/ubuntu focal InRelease\n",
            "Hit:4 http://ppa.launchpad.net/c2d4u.team/c2d4u4.0+/ubuntu focal InRelease\n",
            "Ign:5 https://developer.download.nvidia.com/compute/machine-learning/repos/ubuntu2004/x86_64  InRelease\n",
            "Hit:6 https://developer.download.nvidia.com/compute/cuda/repos/ubuntu2004/x86_64  InRelease\n",
            "Get:7 http://archive.ubuntu.com/ubuntu focal-updates InRelease [114 kB]\n",
            "Hit:8 https://developer.download.nvidia.com/compute/machine-learning/repos/ubuntu2004/x86_64  Release\n",
            "Hit:9 http://ppa.launchpad.net/cran/libgit2/ubuntu focal InRelease\n",
            "Get:10 http://ppa.launchpad.net/deadsnakes/ppa/ubuntu focal InRelease [18.1 kB]\n",
            "Get:11 http://archive.ubuntu.com/ubuntu focal-backports InRelease [108 kB]\n",
            "Hit:12 http://ppa.launchpad.net/graphics-drivers/ppa/ubuntu focal InRelease\n",
            "Get:13 http://security.ubuntu.com/ubuntu focal-security/universe amd64 Packages [988 kB]\n",
            "Get:14 http://security.ubuntu.com/ubuntu focal-security/restricted amd64 Packages [1,882 kB]\n",
            "Get:15 http://security.ubuntu.com/ubuntu focal-security/main amd64 Packages [2,442 kB]\n",
            "Get:17 http://archive.ubuntu.com/ubuntu focal-updates/restricted amd64 Packages [2,009 kB]\n",
            "Get:18 http://archive.ubuntu.com/ubuntu focal-updates/main amd64 Packages [2,920 kB]\n",
            "Get:19 http://archive.ubuntu.com/ubuntu focal-updates/universe amd64 Packages [1,290 kB]\n",
            "Get:20 http://ppa.launchpad.net/deadsnakes/ppa/ubuntu focal/main amd64 Packages [29.5 kB]\n",
            "Fetched 11.9 MB in 10s (1,210 kB/s)\n",
            "Reading package lists... Done\n"
          ]
        }
      ],
      "source": [
        "import os\n",
        "# Find the latest version of spark 3.2 from http://www.apache.org/dist/spark/ and enter as the spark version\n",
        "# For example:\n",
        "# spark_version = 'spark-3.2.3'\n",
        "spark_version = 'spark-3.2.3'\n",
        "os.environ['SPARK_VERSION']=spark_version\n",
        "\n",
        "# Install Spark and Java\n",
        "!apt-get update\n",
        "!apt-get install openjdk-11-jdk-headless -qq > /dev/null\n",
        "!wget -q http://www.apache.org/dist/spark/$SPARK_VERSION/$SPARK_VERSION-bin-hadoop2.7.tgz\n",
        "!tar xf $SPARK_VERSION-bin-hadoop2.7.tgz\n",
        "!pip install -q findspark\n",
        "\n",
        "# Set Environment Variables\n",
        "import os\n",
        "os.environ[\"JAVA_HOME\"] = \"/usr/lib/jvm/java-11-openjdk-amd64\"\n",
        "os.environ[\"SPARK_HOME\"] = f\"/content/{spark_version}-bin-hadoop2.7\"\n",
        "\n",
        "# Start a SparkSession\n",
        "import findspark\n",
        "findspark.init()"
      ]
    },
    {
      "cell_type": "code",
      "execution_count": null,
      "metadata": {
        "colab": {
          "base_uri": "https://localhost:8080/"
        },
        "id": "_xKwTpATHqSe",
        "outputId": "a4cd2637-3d15-441c-9662-56ef7cae7b8b"
      },
      "outputs": [
        {
          "output_type": "stream",
          "name": "stdout",
          "text": [
            "--2023-01-29 15:03:37--  https://jdbc.postgresql.org/download/postgresql-42.2.16.jar\n",
            "Resolving jdbc.postgresql.org (jdbc.postgresql.org)... 72.32.157.228, 2001:4800:3e1:1::228\n",
            "Connecting to jdbc.postgresql.org (jdbc.postgresql.org)|72.32.157.228|:443... connected.\n",
            "HTTP request sent, awaiting response... 200 OK\n",
            "Length: 1002883 (979K) [application/java-archive]\n",
            "Saving to: ‘postgresql-42.2.16.jar’\n",
            "\n",
            "postgresql-42.2.16. 100%[===================>] 979.38K  5.44MB/s    in 0.2s    \n",
            "\n",
            "2023-01-29 15:03:38 (5.44 MB/s) - ‘postgresql-42.2.16.jar’ saved [1002883/1002883]\n",
            "\n"
          ]
        }
      ],
      "source": [
        "# Download the Postgres driver that will allow Spark to interact with Postgres.\n",
        "!wget https://jdbc.postgresql.org/download/postgresql-42.2.16.jar"
      ]
    },
    {
      "cell_type": "code",
      "execution_count": null,
      "metadata": {
        "id": "MMqDAjVS0KN9"
      },
      "outputs": [],
      "source": [
        "from pyspark.sql import SparkSession\n",
        "spark = SparkSession.builder.appName(\"M17-Amazon-Challenge\").config(\"spark.driver.extraClassPath\",\"/content/postgresql-42.2.16.jar\").getOrCreate()"
      ]
    },
    {
      "cell_type": "markdown",
      "metadata": {
        "id": "cyBsySGuY-9V"
      },
      "source": [
        "### Load Amazon Data into Spark DataFrame"
      ]
    },
    {
      "cell_type": "code",
      "execution_count": null,
      "metadata": {
        "id": "CtCmBhQJY-9Z",
        "colab": {
          "base_uri": "https://localhost:8080/"
        },
        "outputId": "5f83ec9b-ac28-4484-8859-0468a3d4c5a4"
      },
      "outputs": [
        {
          "output_type": "stream",
          "name": "stdout",
          "text": [
            "+-----------+-----------+--------------+----------+--------------+--------------------+----------------+-----------+-------------+-----------+----+-----------------+--------------------+--------------------+-----------+\n",
            "|marketplace|customer_id|     review_id|product_id|product_parent|       product_title|product_category|star_rating|helpful_votes|total_votes|vine|verified_purchase|     review_headline|         review_body|review_date|\n",
            "+-----------+-----------+--------------+----------+--------------+--------------------+----------------+-----------+-------------+-----------+----+-----------------+--------------------+--------------------+-----------+\n",
            "|         US|   12076615| RQ58W7SMO911M|0385730586|     122662979|Sisterhood of the...|           Books|          4|            2|          3|   N|                N|this book was a g...|this boook was a ...| 2005-10-14|\n",
            "|         US|   12703090|  RF6IUKMGL8SF|0811828964|      56191234|The Bad Girl's Gu...|           Books|          3|            5|          5|   N|                N|           Fun Fluff|If you are lookin...| 2005-10-14|\n",
            "|         US|   12257412|R1DOSHH6AI622S|1844161560|     253182049|Eisenhorn (A Warh...|           Books|          4|            1|         22|   N|                N| this isn't a review|never read it-a y...| 2005-10-14|\n",
            "|         US|   50732546| RATOTLA3OF70O|0373836635|     348672532|Colby Conspiracy ...|           Books|          5|            2|          2|   N|                N|fine author on he...|Though she is hon...| 2005-10-14|\n",
            "|         US|   51964897|R1TNWRKIVHVYOV|0262181533|     598678717|The Psychology of...|           Books|          4|            0|          2|   N|                N|Execellent cursor...|Review based on a...| 2005-10-14|\n",
            "|         US|   31048862|R2F53LI9KK9MOY|0316769487|     862964341|The Catcher in th...|           Books|          4|            2|          2|   N|                N|   Interesting, fun.|My only complaint...| 2005-10-14|\n",
            "|         US|   53000124|R1KJ6MB7MRSQFF|0805076069|     145341889|Bait and Switch: ...|           Books|          4|            9|         11|   N|                N|I viewed this the...|This book is chil...| 2005-10-14|\n",
            "|         US|   29732693|R2XIM9LT335WHE|1581603681|     640542054|Opening Combinati...|           Books|          4|            3|         10|   N|                N|No Frills - Just ...|When looking for ...| 2005-10-14|\n",
            "|         US|   48541186|R1VE0FQQ0QTQJN|0300108834|     915891133|A Little History ...|           Books|          5|           16|         20|   N|                Y|Simple, entertain...|Never been much f...| 2005-10-14|\n",
            "|         US|   15280864|R1VKEE2NWSWDRU|0446531081|     880645124|Hour Game (King &...|           Books|          4|            0|          0|   N|                N|        A good read!|If you enjoy a we...| 2005-10-14|\n",
            "|         US|   24209213|R2UP6XSVYJBJ2H|0976822105|     731931430|     Faith is a Verb|           Books|          5|            0|          0|   N|                N|Made me Question ...|I thoroughly enjo...| 2005-10-14|\n",
            "|         US|   52253037|R21SYDQ70ILUC0|1580085695|     586052746|Furry Logic: A Gu...|           Books|          5|            1|          1|   N|                Y|    The Perfect Gift|If you are stumpe...| 2005-10-14|\n",
            "|         US|   27925116| R7M06Z88PD7SX|0029148510|      72387289|Acts of War: Beha...|           Books|          4|           14|         14|   N|                N|Solid Book About ...|Whether intention...| 2005-10-14|\n",
            "|         US|   15005044| RRS38KZ4WB5O2|1592285570|     702385650|Temple to the Win...|           Books|          5|            1|          1|   N|                N|A riveting accoun...|Temple to the win...| 2005-10-14|\n",
            "|         US|   52534781|R2YDYRSLGNHPHR|0811848833|     102333549|The Star Wars Pos...|           Books|          4|           16|         19|   N|                Y|Comprehensive vis...|At last... a comp...| 2005-10-14|\n",
            "|         US|   26217071|R1BMPM18O6VZOR|0782144276|     971452783|Photoshop for Nat...|           Books|          4|           13|         14|   N|                N|          Great Book|I find \\\\\"Photosh...| 2005-10-14|\n",
            "|         US|   37684582|R1AABFZH0J0C0C|0375757996|     760991156|The Basic Works o...|           Books|          3|           17|         35|   N|                N|Problems with thi...|I love Aristotle ...| 2005-10-14|\n",
            "|         US|   45232107|R3SJYLG07EHNE9|013146308X|     332774292|The Pterosaurs: F...|           Books|          2|           16|         34|   N|                N|Warmed over lefto...|To his discredit,...| 2005-10-14|\n",
            "|         US|   15437121|R2TIO43ND87XVO|0375701907|     635714194|Straight Man: A N...|           Books|          5|            1|          1|   N|                N|       Funniest Book|Hands down, the f...| 2005-10-14|\n",
            "|         US|   52157117|R18TY4WD19OUAO|141378240X|     656010659|   Lipstick's Legacy|           Books|          5|            1|          1|   N|                N|          Great Work|I read this book ...| 2005-10-14|\n",
            "+-----------+-----------+--------------+----------+--------------+--------------------+----------------+-----------+-------------+-----------+----+-----------------+--------------------+--------------------+-----------+\n",
            "only showing top 20 rows\n",
            "\n"
          ]
        }
      ],
      "source": [
        "from pyspark import SparkFiles\n",
        "url = \"https://s3.amazonaws.com/amazon-reviews-pds/tsv/amazon_reviews_us_Books_v1_02.tsv.gz\"\n",
        "spark.sparkContext.addFile(url)\n",
        "df = spark.read.option(\"encoding\", \"UTF-8\").csv(SparkFiles.get(\"\"), sep=\"\\t\", header=True, inferSchema=True)\n",
        "df.show()"
      ]
    },
    {
      "cell_type": "markdown",
      "metadata": {
        "id": "2yUSe55VY-9t"
      },
      "source": [
        "### Create DataFrames to match tables"
      ]
    },
    {
      "cell_type": "code",
      "execution_count": null,
      "metadata": {
        "id": "C8REmY1aY-9u"
      },
      "outputs": [],
      "source": [
        "from pyspark.sql.functions import to_date\n",
        "# Read in the Review dataset as a DataFrame\n"
      ]
    },
    {
      "cell_type": "code",
      "execution_count": null,
      "metadata": {
        "id": "B0TESUDRY-90",
        "colab": {
          "base_uri": "https://localhost:8080/"
        },
        "outputId": "fcc66f66-daf2-479f-bcf9-f8feb3d78ed9"
      },
      "outputs": [
        {
          "output_type": "stream",
          "name": "stdout",
          "text": [
            "+-----------+--------------+\n",
            "|customer_id|customer_count|\n",
            "+-----------+--------------+\n",
            "|   28735044|             9|\n",
            "|   15607794|             1|\n",
            "|   15596972|             1|\n",
            "|   32371281|             2|\n",
            "|   12084021|             1|\n",
            "|   14462635|             1|\n",
            "|   41052840|             5|\n",
            "|   52068296|           105|\n",
            "|   51739623|             1|\n",
            "|   14544320|             1|\n",
            "|   50093726|           151|\n",
            "|   52925615|             1|\n",
            "|   12266315|             1|\n",
            "|   44917096|             1|\n",
            "|   52833886|             1|\n",
            "|   51854558|            57|\n",
            "|   12404586|             2|\n",
            "|   49850307|             8|\n",
            "|   23478170|             1|\n",
            "|   51088740|             1|\n",
            "+-----------+--------------+\n",
            "only showing top 20 rows\n",
            "\n"
          ]
        }
      ],
      "source": [
        "# Create the customers_table DataFrame\n",
        "customers_df = df.groupby(\"customer_id\").agg({\"customer_id\":\"count\"}).withColumnRenamed(\"count(customer_id)\", \"customer_count\")\n",
        "customers_df.show()"
      ]
    },
    {
      "cell_type": "code",
      "execution_count": null,
      "metadata": {
        "id": "4FwXA6UvY-96",
        "colab": {
          "base_uri": "https://localhost:8080/"
        },
        "outputId": "11e5a365-82a2-48fb-8fa2-1d0c59f9ed46"
      },
      "outputs": [
        {
          "output_type": "stream",
          "name": "stdout",
          "text": [
            "+----------+--------------------+\n",
            "|product_id|       product_title|\n",
            "+----------+--------------------+\n",
            "|0029148510|Acts of War: Beha...|\n",
            "|1844494896|Waiting For Kate ...|\n",
            "|0451216954|Dark Lover (Black...|\n",
            "|006056718X|Often Wrong, Neve...|\n",
            "|0965852768|101 Spooktacular ...|\n",
            "|141960435X|Flip Flop Spanish...|\n",
            "|0471282502|Experimental Orga...|\n",
            "|0756613647|Universe: The Def...|\n",
            "|B0006YGCE8|Seismic risk asse...|\n",
            "|207030602X|L Etranger (Folio...|\n",
            "|1569711224|Aliens: Hive  (2n...|\n",
            "|0756613744|Go Figure!: A Tot...|\n",
            "|0891073825|The Cross: God's ...|\n",
            "|1595140840|            Teach Me|\n",
            "|1844491412|Led Zeppelin: The...|\n",
            "|0060737980|Surrounded by Idi...|\n",
            "|0486265250|Ancient Egyptian ...|\n",
            "|0763627798|           Shoe Baby|\n",
            "|097559950X|Natural Cures \"Th...|\n",
            "|0595362478| Accursed Inhabitant|\n",
            "+----------+--------------------+\n",
            "only showing top 20 rows\n",
            "\n"
          ]
        }
      ],
      "source": [
        "# Create the products_table DataFrame and drop duplicates. \n",
        "products_df = df.select([\"product_id\", \"product_title\"]).drop_duplicates()\n",
        "products_df.show()"
      ]
    },
    {
      "cell_type": "code",
      "execution_count": null,
      "metadata": {
        "id": "MkqyCuNQY-9-",
        "colab": {
          "base_uri": "https://localhost:8080/"
        },
        "outputId": "557fbbcc-93b1-43c5-a83a-7a3e8417b19a"
      },
      "outputs": [
        {
          "output_type": "stream",
          "name": "stdout",
          "text": [
            "+--------------+-----------+----------+--------------+-----------+\n",
            "|     review_id|customer_id|product_id|product_parent|review_date|\n",
            "+--------------+-----------+----------+--------------+-----------+\n",
            "| RQ58W7SMO911M|   12076615|0385730586|     122662979| 2005-10-14|\n",
            "|  RF6IUKMGL8SF|   12703090|0811828964|      56191234| 2005-10-14|\n",
            "|R1DOSHH6AI622S|   12257412|1844161560|     253182049| 2005-10-14|\n",
            "| RATOTLA3OF70O|   50732546|0373836635|     348672532| 2005-10-14|\n",
            "|R1TNWRKIVHVYOV|   51964897|0262181533|     598678717| 2005-10-14|\n",
            "|R2F53LI9KK9MOY|   31048862|0316769487|     862964341| 2005-10-14|\n",
            "|R1KJ6MB7MRSQFF|   53000124|0805076069|     145341889| 2005-10-14|\n",
            "|R2XIM9LT335WHE|   29732693|1581603681|     640542054| 2005-10-14|\n",
            "|R1VE0FQQ0QTQJN|   48541186|0300108834|     915891133| 2005-10-14|\n",
            "|R1VKEE2NWSWDRU|   15280864|0446531081|     880645124| 2005-10-14|\n",
            "|R2UP6XSVYJBJ2H|   24209213|0976822105|     731931430| 2005-10-14|\n",
            "|R21SYDQ70ILUC0|   52253037|1580085695|     586052746| 2005-10-14|\n",
            "| R7M06Z88PD7SX|   27925116|0029148510|      72387289| 2005-10-14|\n",
            "| RRS38KZ4WB5O2|   15005044|1592285570|     702385650| 2005-10-14|\n",
            "|R2YDYRSLGNHPHR|   52534781|0811848833|     102333549| 2005-10-14|\n",
            "|R1BMPM18O6VZOR|   26217071|0782144276|     971452783| 2005-10-14|\n",
            "|R1AABFZH0J0C0C|   37684582|0375757996|     760991156| 2005-10-14|\n",
            "|R3SJYLG07EHNE9|   45232107|013146308X|     332774292| 2005-10-14|\n",
            "|R2TIO43ND87XVO|   15437121|0375701907|     635714194| 2005-10-14|\n",
            "|R18TY4WD19OUAO|   52157117|141378240X|     656010659| 2005-10-14|\n",
            "+--------------+-----------+----------+--------------+-----------+\n",
            "only showing top 20 rows\n",
            "\n"
          ]
        }
      ],
      "source": [
        "# Create the review_id_table DataFrame. \n",
        "# Convert the 'review_date' column to a date datatype with to_date(\"review_date\", 'yyyy-MM-dd').alias(\"review_date\")\n",
        "# review_id_df = df.select([, to_date(\"review_date\", 'yyyy-MM-dd').alias(\"review_date\")])\n",
        "review_id_df = df.select([\"review_id\", \"customer_id\", \"product_id\", \"product_parent\", to_date(\"review_date\", 'yyyy-MM-dd').alias(\"review_date\")])\n",
        "review_id_df.show()"
      ]
    },
    {
      "cell_type": "code",
      "execution_count": null,
      "metadata": {
        "id": "lzMmkdKmY--D",
        "colab": {
          "base_uri": "https://localhost:8080/"
        },
        "outputId": "da7adcaf-b8d9-4363-c61e-b3c614acc251"
      },
      "outputs": [
        {
          "output_type": "stream",
          "name": "stdout",
          "text": [
            "+--------------+-----------+-------------+-----------+----+-----------------+\n",
            "|     review_id|star_rating|helpful_votes|total_votes|vine|verified_purchase|\n",
            "+--------------+-----------+-------------+-----------+----+-----------------+\n",
            "| RQ58W7SMO911M|          4|            2|          3|   N|                N|\n",
            "|  RF6IUKMGL8SF|          3|            5|          5|   N|                N|\n",
            "|R1DOSHH6AI622S|          4|            1|         22|   N|                N|\n",
            "| RATOTLA3OF70O|          5|            2|          2|   N|                N|\n",
            "|R1TNWRKIVHVYOV|          4|            0|          2|   N|                N|\n",
            "|R2F53LI9KK9MOY|          4|            2|          2|   N|                N|\n",
            "|R1KJ6MB7MRSQFF|          4|            9|         11|   N|                N|\n",
            "|R2XIM9LT335WHE|          4|            3|         10|   N|                N|\n",
            "|R1VE0FQQ0QTQJN|          5|           16|         20|   N|                Y|\n",
            "|R1VKEE2NWSWDRU|          4|            0|          0|   N|                N|\n",
            "|R2UP6XSVYJBJ2H|          5|            0|          0|   N|                N|\n",
            "|R21SYDQ70ILUC0|          5|            1|          1|   N|                Y|\n",
            "| R7M06Z88PD7SX|          4|           14|         14|   N|                N|\n",
            "| RRS38KZ4WB5O2|          5|            1|          1|   N|                N|\n",
            "|R2YDYRSLGNHPHR|          4|           16|         19|   N|                Y|\n",
            "|R1BMPM18O6VZOR|          4|           13|         14|   N|                N|\n",
            "|R1AABFZH0J0C0C|          3|           17|         35|   N|                N|\n",
            "|R3SJYLG07EHNE9|          2|           16|         34|   N|                N|\n",
            "|R2TIO43ND87XVO|          5|            1|          1|   N|                N|\n",
            "|R18TY4WD19OUAO|          5|            1|          1|   N|                N|\n",
            "+--------------+-----------+-------------+-----------+----+-----------------+\n",
            "only showing top 20 rows\n",
            "\n"
          ]
        }
      ],
      "source": [
        "# Create the vine_table. DataFrame\n",
        "vine_df = df.select([\"review_id\", \"star_rating\", \"helpful_votes\", \"total_votes\", \"vine\", \"verified_purchase\"])\n",
        "vine_df.show()"
      ]
    },
    {
      "cell_type": "markdown",
      "metadata": {
        "id": "jITZhLkmY--J"
      },
      "source": [
        "### Connect to the AWS RDS instance and write each DataFrame to its table. "
      ]
    },
    {
      "cell_type": "code",
      "execution_count": null,
      "metadata": {
        "id": "7jiUvs1aY--L",
        "colab": {
          "base_uri": "https://localhost:8080/"
        },
        "outputId": "10d9855b-f0c4-42c4-a194-7cceee767add"
      },
      "outputs": [
        {
          "name": "stdout",
          "output_type": "stream",
          "text": [
            "Enter database password··········\n"
          ]
        }
      ],
      "source": [
        "# Store environmental variable\n",
        "from getpass import getpass\n",
        "password = getpass('Enter database password')\n",
        "# Configure settings for RDS\n",
        "mode = \"append\"\n",
        "jdbc_url=\"jdbc:postgresql://amazon-vine-analysis.cqrhpsosfvfb.us-east-1.rds.amazonaws.com:5432/postgres\"\n",
        "config = {\"user\":\"postgres\", \n",
        "          \"password\": password, \n",
        "          \"driver\":\"org.postgresql.Driver\"}"
      ]
    },
    {
      "cell_type": "code",
      "execution_count": null,
      "metadata": {
        "id": "T2zgZ-aKY--Q"
      },
      "outputs": [],
      "source": [
        "# Write review_id_df to table in RDS\n",
        "review_id_df.write.jdbc(url=jdbc_url, table='review_id_table', mode=mode, properties=config)"
      ]
    },
    {
      "cell_type": "code",
      "execution_count": null,
      "metadata": {
        "id": "1m3yzn-LY--U"
      },
      "outputs": [],
      "source": [
        "# Write products_df to table in RDS\n",
        "# about 3 min\n",
        "products_df.write.jdbc(url=jdbc_url, table='products_table', mode=mode, properties=config)"
      ]
    },
    {
      "cell_type": "code",
      "execution_count": null,
      "metadata": {
        "id": "KbXri15fY--Z"
      },
      "outputs": [],
      "source": [
        "# Write customers_df to table in RDS\n",
        "# 5 min 14 s\n",
        "customers_df.write.jdbc(url=jdbc_url, table='customers_table', mode=mode, properties=config)"
      ]
    },
    {
      "cell_type": "code",
      "execution_count": null,
      "metadata": {
        "id": "XdQknSHLY--e"
      },
      "outputs": [],
      "source": [
        "# Write vine_df to table in RDS\n",
        "# 11 minutes\n",
        "vine_df.write.jdbc(url=jdbc_url, table='vine_table', mode=mode, properties=config)"
      ]
    },
    {
      "cell_type": "code",
      "execution_count": null,
      "metadata": {
        "id": "Exuo6ebUsCqW",
        "colab": {
          "base_uri": "https://localhost:8080/"
        },
        "outputId": "29a42bb9-8369-4d2a-d083-023482476cc9"
      },
      "outputs": [
        {
          "output_type": "stream",
          "name": "stdout",
          "text": [
            "+--------------+-----------+-------------+-----------+----+-----------------+\n",
            "|     review_id|star_rating|helpful_votes|total_votes|vine|verified_purchase|\n",
            "+--------------+-----------+-------------+-----------+----+-----------------+\n",
            "|R1DOSHH6AI622S|          4|            1|         22|   N|                N|\n",
            "|R1VE0FQQ0QTQJN|          5|           16|         20|   N|                Y|\n",
            "|R1AABFZH0J0C0C|          3|           17|         35|   N|                N|\n",
            "|R3SJYLG07EHNE9|          2|           16|         34|   N|                N|\n",
            "|R3MD5TZJGIPTDU|          5|           21|         31|   N|                N|\n",
            "|R1KPOIT5WT3NEF|          1|           13|         29|   N|                N|\n",
            "| RX6OWUF8EFZ72|          5|           27|         28|   N|                N|\n",
            "| R33IFUWCNYFSO|          2|            4|         45|   N|                N|\n",
            "| RWMT2MXG3WLDP|          5|            6|         20|   N|                N|\n",
            "|R1OPUF771LL5O5|          4|           27|         27|   N|                N|\n",
            "|R3AW5JRZYH66M5|          1|          268|        307|   N|                N|\n",
            "|R2DXLNKF0EL4CI|          4|           24|         27|   N|                Y|\n",
            "|R12EHXBC0GP2C2|          5|           23|         24|   N|                N|\n",
            "|R2JSWNTAO83X3V|          5|          145|        184|   N|                N|\n",
            "|R3THZWOBS1086J|          5|           46|         47|   N|                N|\n",
            "|R160DHJPJ4B20R|          4|           28|         30|   N|                N|\n",
            "|R27UDFNE6MY1LO|          2|           15|         24|   N|                N|\n",
            "|R34X92SSRBI0N4|          5|           26|         29|   N|                N|\n",
            "| RDBVYHGTTICMV|          1|            4|         25|   N|                N|\n",
            "| RGTKXJ8P5O7LR|          4|           16|         21|   N|                N|\n",
            "+--------------+-----------+-------------+-----------+----+-----------------+\n",
            "only showing top 20 rows\n",
            "\n"
          ]
        }
      ],
      "source": [
        "# Filter the data and create a new DataFrame or table to retrieve all the rows where the total_votes count is equal to or greater than 20 to pick reviews\n",
        "total_votes_df = vine_df.filter(vine_df[\"total_votes\"]>=20)\n",
        "total_votes_df.show()"
      ]
    },
    {
      "cell_type": "code",
      "source": [
        "# create a new DataFrame or table to retrieve all the rows where the number of helpful_votes divided by total_votes is equal to or greater than 50%\n",
        "helpful_votes_df = total_votes_df.filter((total_votes_df[\"helpful_votes\"]/total_votes_df[\"total_votes\"])>= 0.5)\n",
        "helpful_votes_df.show()"
      ],
      "metadata": {
        "colab": {
          "base_uri": "https://localhost:8080/"
        },
        "id": "1qGfxf5YSh5c",
        "outputId": "85d81f5d-da4e-4822-ccae-901ea8cc015f"
      },
      "execution_count": null,
      "outputs": [
        {
          "output_type": "stream",
          "name": "stdout",
          "text": [
            "+--------------+-----------+-------------+-----------+----+-----------------+\n",
            "|     review_id|star_rating|helpful_votes|total_votes|vine|verified_purchase|\n",
            "+--------------+-----------+-------------+-----------+----+-----------------+\n",
            "|R1VE0FQQ0QTQJN|          5|           16|         20|   N|                Y|\n",
            "|R3MD5TZJGIPTDU|          5|           21|         31|   N|                N|\n",
            "| RX6OWUF8EFZ72|          5|           27|         28|   N|                N|\n",
            "|R1OPUF771LL5O5|          4|           27|         27|   N|                N|\n",
            "|R3AW5JRZYH66M5|          1|          268|        307|   N|                N|\n",
            "|R2DXLNKF0EL4CI|          4|           24|         27|   N|                Y|\n",
            "|R12EHXBC0GP2C2|          5|           23|         24|   N|                N|\n",
            "|R2JSWNTAO83X3V|          5|          145|        184|   N|                N|\n",
            "|R3THZWOBS1086J|          5|           46|         47|   N|                N|\n",
            "|R160DHJPJ4B20R|          4|           28|         30|   N|                N|\n",
            "|R27UDFNE6MY1LO|          2|           15|         24|   N|                N|\n",
            "|R34X92SSRBI0N4|          5|           26|         29|   N|                N|\n",
            "| RGTKXJ8P5O7LR|          4|           16|         21|   N|                N|\n",
            "|R1TK5Q90GGJSTN|          4|           59|         68|   N|                N|\n",
            "|R3E8UZOCG84HNO|          5|           18|         24|   N|                N|\n",
            "|R33O2810BC4UR0|          5|          101|        103|   N|                Y|\n",
            "|R1M60NYB4UPRJ8|          5|           19|         24|   N|                N|\n",
            "|R38RXR8USISV94|          4|         1150|       1228|   N|                N|\n",
            "|R2E2KP6K6OUBEX|          5|           59|         60|   N|                N|\n",
            "|R3F583X11I1RP6|          1|           40|         43|   N|                N|\n",
            "+--------------+-----------+-------------+-----------+----+-----------------+\n",
            "only showing top 20 rows\n",
            "\n"
          ]
        }
      ]
    },
    {
      "cell_type": "code",
      "source": [
        "# create a new DataFrame or table that retrieves all the rows where a review was written as part of the Vine program (paid), vine == 'Y'\n",
        "vine_yes_df = helpful_votes_df.filter(helpful_votes_df[\"vine\"] == \"Y\")\n",
        "vine_yes_df.show()"
      ],
      "metadata": {
        "colab": {
          "base_uri": "https://localhost:8080/"
        },
        "id": "oxXAz7qWSig3",
        "outputId": "5cc661fc-fc1f-4aa1-b0c7-cd17b3c4d2f2"
      },
      "execution_count": null,
      "outputs": [
        {
          "output_type": "stream",
          "name": "stdout",
          "text": [
            "+---------+-----------+-------------+-----------+----+-----------------+\n",
            "|review_id|star_rating|helpful_votes|total_votes|vine|verified_purchase|\n",
            "+---------+-----------+-------------+-----------+----+-----------------+\n",
            "+---------+-----------+-------------+-----------+----+-----------------+\n",
            "\n"
          ]
        }
      ]
    },
    {
      "cell_type": "code",
      "source": [
        "# create a new DataFrame or table that retrieves all the rows where a review was written as part of the Vine program (paid), vine == 'N'\n",
        "vine_no_df = helpful_votes_df.filter(helpful_votes_df[\"vine\"] == \"N\")\n",
        "vine_no_df.show()"
      ],
      "metadata": {
        "colab": {
          "base_uri": "https://localhost:8080/"
        },
        "id": "f8O-NZrWSiwv",
        "outputId": "d5bdf80d-739d-4e99-c5b2-943a05308965"
      },
      "execution_count": null,
      "outputs": [
        {
          "output_type": "stream",
          "name": "stdout",
          "text": [
            "+--------------+-----------+-------------+-----------+----+-----------------+\n",
            "|     review_id|star_rating|helpful_votes|total_votes|vine|verified_purchase|\n",
            "+--------------+-----------+-------------+-----------+----+-----------------+\n",
            "|R1VE0FQQ0QTQJN|          5|           16|         20|   N|                Y|\n",
            "|R3MD5TZJGIPTDU|          5|           21|         31|   N|                N|\n",
            "| RX6OWUF8EFZ72|          5|           27|         28|   N|                N|\n",
            "|R1OPUF771LL5O5|          4|           27|         27|   N|                N|\n",
            "|R3AW5JRZYH66M5|          1|          268|        307|   N|                N|\n",
            "|R2DXLNKF0EL4CI|          4|           24|         27|   N|                Y|\n",
            "|R12EHXBC0GP2C2|          5|           23|         24|   N|                N|\n",
            "|R2JSWNTAO83X3V|          5|          145|        184|   N|                N|\n",
            "|R3THZWOBS1086J|          5|           46|         47|   N|                N|\n",
            "|R160DHJPJ4B20R|          4|           28|         30|   N|                N|\n",
            "|R27UDFNE6MY1LO|          2|           15|         24|   N|                N|\n",
            "|R34X92SSRBI0N4|          5|           26|         29|   N|                N|\n",
            "| RGTKXJ8P5O7LR|          4|           16|         21|   N|                N|\n",
            "|R1TK5Q90GGJSTN|          4|           59|         68|   N|                N|\n",
            "|R3E8UZOCG84HNO|          5|           18|         24|   N|                N|\n",
            "|R33O2810BC4UR0|          5|          101|        103|   N|                Y|\n",
            "|R1M60NYB4UPRJ8|          5|           19|         24|   N|                N|\n",
            "|R38RXR8USISV94|          4|         1150|       1228|   N|                N|\n",
            "|R2E2KP6K6OUBEX|          5|           59|         60|   N|                N|\n",
            "|R3F583X11I1RP6|          1|           40|         43|   N|                N|\n",
            "+--------------+-----------+-------------+-----------+----+-----------------+\n",
            "only showing top 20 rows\n",
            "\n"
          ]
        }
      ]
    },
    {
      "cell_type": "code",
      "source": [
        "# Determine the total number of reviews, the number of 5-star reviews, and the percentage of 5-star reviews for the two types of review (paid vs unpaid)\n",
        "total_reviews = total_votes_df.count()\n",
        "reviews_5star = total_votes_df.filter(total_votes_df[\"star_rating\"] == 5).count()\n",
        "percent_5star = (reviews_5star/total_reviews) * 100\n",
        "print(f'Total # of Reviews = {total_reviews}')\n",
        "print(f'Total # of 5-star reviews = {reviews_5star}')\n",
        "print(f'The percentage of 5-star reviews was {percent_5star:.1f}%')"
      ],
      "metadata": {
        "colab": {
          "base_uri": "https://localhost:8080/"
        },
        "id": "rvSNn5WkSjAP",
        "outputId": "0306964b-e53b-41cc-990d-27cb334ddd14"
      },
      "execution_count": null,
      "outputs": [
        {
          "output_type": "stream",
          "name": "stdout",
          "text": [
            "Total # of Reviews = 501609\n",
            "Total # of 5-star reviews = 258381\n",
            "The percentage of 5-star reviews was 51.5%\n"
          ]
        }
      ]
    },
    {
      "cell_type": "code",
      "source": [],
      "metadata": {
        "id": "sXrCv181b_fS"
      },
      "execution_count": null,
      "outputs": []
    }
  ],
  "metadata": {
    "colab": {
      "provenance": []
    },
    "kernelspec": {
      "display_name": "Python 3 (ipykernel)",
      "language": "python",
      "name": "python3"
    },
    "language_info": {
      "codemirror_mode": {
        "name": "ipython",
        "version": 3
      },
      "file_extension": ".py",
      "mimetype": "text/x-python",
      "name": "python",
      "nbconvert_exporter": "python",
      "pygments_lexer": "ipython3",
      "version": "3.8.13"
    },
    "nteract": {
      "version": "0.12.3"
    }
  },
  "nbformat": 4,
  "nbformat_minor": 0
}